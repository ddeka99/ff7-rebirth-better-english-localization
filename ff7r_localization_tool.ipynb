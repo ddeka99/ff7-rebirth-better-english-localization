{
 "cells": [
  {
   "cell_type": "markdown",
   "metadata": {},
   "source": [
    "# FF7R Translation & Localization Script"
   ]
  },
  {
   "cell_type": "markdown",
   "metadata": {},
   "source": [
    "## Setup and Initialization"
   ]
  },
  {
   "cell_type": "code",
   "execution_count": null,
   "metadata": {},
   "outputs": [],
   "source": [
    "# Import Libraries\n",
    "import os\n",
    "import pandas as pd\n",
    "from openai import AzureOpenAI\n",
    "\n",
    "# Initialize Azure OpenAI client with key-based authentication\n",
    "endpoint = os.getenv(\"AZURE_OPENAI_ENDPOINT\")  \n",
    "deployment = os.getenv(\"AZURE_OPENAI_DEPLOYMENT_NAME\")  \n",
    "subscription_key = os.getenv(\"AZURE_OPENAI_API_KEY\")\n",
    "   \n",
    "client = AzureOpenAI(\n",
    "    azure_endpoint=endpoint,  \n",
    "    api_key=subscription_key,  \n",
    "    api_version=\"2024-05-01-preview\",  \n",
    ")"
   ]
  },
  {
   "cell_type": "code",
   "execution_count": null,
   "metadata": {},
   "outputs": [],
   "source": [
    "# Test the client\n",
    "prompt = \"Describe Tifa Lockhart from Final Fantasy VII.\"\n",
    "\n",
    "completion = client.chat.completions.create(\n",
    "    model=deployment,\n",
    "    messages=[\n",
    "        {\"role\": \"system\", \"content\": \"You are an expert in the lore and story of the game Final Fantasy VII which includes the orignal game, remakes and spin-offs.\"},\n",
    "        {\"role\": \"user\", \"content\": prompt}\n",
    "    ]\n",
    ")\n",
    "\n",
    "# Print the response\n",
    "print(completion.choices[0].message.content)"
   ]
  },
  {
   "cell_type": "markdown",
   "metadata": {},
   "source": [
    "## Translation Functions"
   ]
  },
  {
   "cell_type": "code",
   "execution_count": null,
   "metadata": {},
   "outputs": [],
   "source": [
    "def translate_dialogue(jp_text, official_en_text, context_info):\n",
    "    prompt = f\"\"\"\n",
    "    You are a localization assistant for Final Fantasy VII REBIRTH. Your task is to translate the following Japanese dialogue while keeping it faithful to the original meaning. Avoid excessive creative liberties, but ensure the translation sounds natural in English.\n",
    "\n",
    "    Context:\n",
    "    {context_info}\n",
    "\n",
    "    Japanese Dialogue:\n",
    "    {jp_text}\n",
    "\n",
    "    Official English Localization:\n",
    "    {official_en_text}\n",
    "\n",
    "    Provide a revised, faithful English translation below:\n",
    "    \"\"\"\n",
    "\n",
    "\t# Call the Azure OpenAI API to generate a translation for the related dialogues\n",
    "    completion = client.chat.completions.create(\n",
    "        model=deployment,\n",
    "        messages=[\n",
    "            {\"role\": \"system\", \"content\": \"You are a localization expert.\"},\n",
    "            {\"role\": \"user\", \"content\": prompt}\n",
    "        ]\n",
    "    )\n",
    "\n",
    "    return completion.choices[0].message.content"
   ]
  },
  {
   "cell_type": "markdown",
   "metadata": {},
   "source": [
    "## Load and Process Script Files"
   ]
  },
  {
   "cell_type": "code",
   "execution_count": null,
   "metadata": {},
   "outputs": [],
   "source": [
    "# Load the JP and EN CSV files\n",
    "df_jp = pd.read_csv(\"4000-MIDGR_TxtRes_jp.csv\")\n",
    "df_en = pd.read_csv(\"4000-MIDGR_TxtRes.csv\")\n",
    "\n",
    "# Merge files on ID to align translations\n",
    "df_merged = df_jp.merge(df_en, on=\"id\", suffixes=(\"_jp\", \"_en\"))\n",
    "\n",
    "# Group by related dialogue sets\n",
    "df_merged[\"group\"] = df_merged[\"id\"].str.extract(r'(\\$[^_]+_[^_]+_[^_]+)')"
   ]
  },
  {
   "cell_type": "markdown",
   "metadata": {},
   "source": [
    "## Perform AI-Assisted Translation"
   ]
  },
  {
   "cell_type": "code",
   "execution_count": null,
   "metadata": {},
   "outputs": [],
   "source": [
    "# Process each group\n",
    "translated_data = []\n",
    "for group_id, group in df_merged.groupby(\"group\"):\n",
    "    jp_text = \"\\n\".join(group[\"text_jp\"].tolist())\n",
    "    official_en_text = \"\\n\".join(group[\"text_en\"].tolist())\n",
    "    context_info = f\"Scene ID: {group_id}\"\n",
    "    \n",
    "    translated_text = translate_dialogue(jp_text, official_en_text, context_info)\n",
    "    \n",
    "    for idx, row in group.iterrows():\n",
    "        translated_data.append({\n",
    "            \"id\": row[\"id\"],\n",
    "            \"original_jp\": row[\"text_jp\"],\n",
    "            \"official_en\": row[\"text_en\"],\n",
    "            \"revised_translation\": translated_text.split('\\n')[idx]\n",
    "        })\n",
    "\n",
    "# Convert translated data to DataFrame and save\n",
    "df_translated = pd.DataFrame(translated_data)\n",
    "df_translated.to_csv(\"4000-MIDGR_TxtRes_translated.csv\", index=False)"
   ]
  }
 ],
 "metadata": {
  "kernelspec": {
   "display_name": ".venv",
   "language": "python",
   "name": "python3"
  },
  "language_info": {
   "codemirror_mode": {
    "name": "ipython",
    "version": 3
   },
   "file_extension": ".py",
   "mimetype": "text/x-python",
   "name": "python",
   "nbconvert_exporter": "python",
   "pygments_lexer": "ipython3",
   "version": "3.11.9"
  }
 },
 "nbformat": 4,
 "nbformat_minor": 2
}
